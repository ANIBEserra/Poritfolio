#corpus ---> meu texto
#Bag of words (BoW) - biblioteca python
#---> é feita a contagem de incidência das palavaras no saco de palavras
